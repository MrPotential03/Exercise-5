{
 "cells": [
  {
   "cell_type": "code",
   "execution_count": 1,
   "id": "temporal-penetration",
   "metadata": {},
   "outputs": [
    {
     "name": "stdin",
     "output_type": "stream",
     "text": [
      "Please enter your name:  Ethan\n",
      "What is your favorite color Ethan? green\n"
     ]
    },
    {
     "name": "stdout",
     "output_type": "stream",
     "text": [
      "Your favorite color is pretty dumb Ethan. The color green is a pretty dumb color.\n"
     ]
    }
   ],
   "source": [
    "name = input(\"Please enter your name: \")\n",
    "\n",
    "fav_color = input(\"What is your favorite color \" + name + \"?\")\n",
    "\n",
    "print(\"Your favorite color is pretty dumb \" + name + \". The color \"+ fav_color + \" is a pretty dumb color.\")"
   ]
  },
  {
   "cell_type": "code",
   "execution_count": null,
   "id": "unauthorized-cement",
   "metadata": {},
   "outputs": [],
   "source": []
  }
 ],
 "metadata": {
  "kernelspec": {
   "display_name": "Python 3",
   "language": "python",
   "name": "python3"
  },
  "language_info": {
   "codemirror_mode": {
    "name": "ipython",
    "version": 3
   },
   "file_extension": ".py",
   "mimetype": "text/x-python",
   "name": "python",
   "nbconvert_exporter": "python",
   "pygments_lexer": "ipython3",
   "version": "3.8.5"
  }
 },
 "nbformat": 4,
 "nbformat_minor": 5
}
